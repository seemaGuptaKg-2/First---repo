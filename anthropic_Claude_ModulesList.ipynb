{
  "nbformat": 4,
  "nbformat_minor": 0,
  "metadata": {
    "colab": {
      "provenance": [],
      "authorship_tag": "ABX9TyMiqyOA3s7DxWyEiB6n9GUJ",
      "include_colab_link": true
    },
    "kernelspec": {
      "name": "python3",
      "display_name": "Python 3"
    },
    "language_info": {
      "name": "python"
    }
  },
  "cells": [
    {
      "cell_type": "markdown",
      "metadata": {
        "id": "view-in-github",
        "colab_type": "text"
      },
      "source": [
        "<a href=\"https://colab.research.google.com/github/seemaGuptaKg-2/First---repo/blob/main/anthropic_Claude_ModulesList.ipynb\" target=\"_parent\"><img src=\"https://colab.research.google.com/assets/colab-badge.svg\" alt=\"Open In Colab\"/></a>"
      ]
    },
    {
      "cell_type": "code",
      "execution_count": 2,
      "metadata": {
        "id": "gK9NUS7iWmv4"
      },
      "outputs": [],
      "source": [
        "!pip install anthropic -q"
      ]
    },
    {
      "cell_type": "code",
      "source": [
        "import anthropic\n",
        "from google.colab import userdata\n",
        "\n",
        "# Retrieve your Anthropic API key from Colab secrets\n",
        "# Add your API key to the secrets manager under the \"🔑\" in the left panel, naming it 'ANTHROPIC_API_KEY'\n",
        "ANTHROPIC_API_KEY = userdata.get('ANTHROPIC_API_KEY')\n",
        "\n",
        "client = anthropic.Anthropic(api_key=ANTHROPIC_API_KEY)\n",
        "models = client.models.list()\n",
        "\n",
        "for model in models:\n",
        "  print(model.id)"
      ],
      "metadata": {
        "colab": {
          "base_uri": "https://localhost:8080/"
        },
        "id": "xmXXKR-dXsRT",
        "outputId": "8be4a3d9-5c61-40f4-b552-efc0e8d22d7c"
      },
      "execution_count": 14,
      "outputs": [
        {
          "output_type": "stream",
          "name": "stdout",
          "text": [
            "claude-opus-4-1-20250805\n",
            "claude-opus-4-20250514\n",
            "claude-sonnet-4-20250514\n",
            "claude-3-7-sonnet-20250219\n",
            "claude-3-5-haiku-20241022\n",
            "claude-3-haiku-20240307\n"
          ]
        }
      ]
    }
  ]
}