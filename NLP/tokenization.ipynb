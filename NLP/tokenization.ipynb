{
  "nbformat": 4,
  "nbformat_minor": 0,
  "metadata": {
    "colab": {
      "provenance": []
    },
    "kernelspec": {
      "name": "python3",
      "display_name": "Python 3"
    },
    "language_info": {
      "name": "python"
    }
  },
  "cells": [
    {
      "cell_type": "code",
      "source": [
        "!pip install nltk"
      ],
      "metadata": {
        "colab": {
          "base_uri": "https://localhost:8080/"
        },
        "id": "93-wg1My_VtV",
        "outputId": "a8d7d8ee-2ba1-4a26-f873-9c3ebe5c735e"
      },
      "execution_count": 4,
      "outputs": [
        {
          "output_type": "stream",
          "name": "stdout",
          "text": [
            "Requirement already satisfied: nltk in /usr/local/lib/python3.12/dist-packages (3.9.1)\n",
            "Requirement already satisfied: click in /usr/local/lib/python3.12/dist-packages (from nltk) (8.2.1)\n",
            "Requirement already satisfied: joblib in /usr/local/lib/python3.12/dist-packages (from nltk) (1.5.2)\n",
            "Requirement already satisfied: regex>=2021.8.3 in /usr/local/lib/python3.12/dist-packages (from nltk) (2024.11.6)\n",
            "Requirement already satisfied: tqdm in /usr/local/lib/python3.12/dist-packages (from nltk) (4.67.1)\n"
          ]
        }
      ]
    },
    {
      "cell_type": "code",
      "source": [
        "import nltk\n",
        "nltk.download('punkt')\n",
        "nltk.download('wordnet')"
      ],
      "metadata": {
        "colab": {
          "base_uri": "https://localhost:8080/"
        },
        "id": "J3O2sHyd_YjM",
        "outputId": "4e02d8f6-ef3f-48fd-add1-bd04859956fc"
      },
      "execution_count": 5,
      "outputs": [
        {
          "output_type": "stream",
          "name": "stderr",
          "text": [
            "[nltk_data] Downloading package punkt to /root/nltk_data...\n",
            "[nltk_data]   Package punkt is already up-to-date!\n",
            "[nltk_data] Downloading package wordnet to /root/nltk_data...\n",
            "[nltk_data]   Package wordnet is already up-to-date!\n"
          ]
        },
        {
          "output_type": "execute_result",
          "data": {
            "text/plain": [
              "True"
            ]
          },
          "metadata": {},
          "execution_count": 5
        }
      ]
    },
    {
      "cell_type": "code",
      "source": [
        "nltk.download('punkt_tab')"
      ],
      "metadata": {
        "id": "ZAptHPhb_YZF",
        "colab": {
          "base_uri": "https://localhost:8080/"
        },
        "outputId": "ab51767a-c3f3-48b7-d50a-3c934bedc434"
      },
      "execution_count": 6,
      "outputs": [
        {
          "output_type": "stream",
          "name": "stderr",
          "text": [
            "[nltk_data] Downloading package punkt_tab to /root/nltk_data...\n",
            "[nltk_data]   Unzipping tokenizers/punkt_tab.zip.\n"
          ]
        },
        {
          "output_type": "execute_result",
          "data": {
            "text/plain": [
              "True"
            ]
          },
          "metadata": {},
          "execution_count": 6
        }
      ]
    },
    {
      "cell_type": "code",
      "execution_count": 7,
      "metadata": {
        "colab": {
          "base_uri": "https://localhost:8080/"
        },
        "id": "NcouyPns_T0m",
        "outputId": "34cf7ff4-5a7c-4a6c-defd-2dc87189ee75"
      },
      "outputs": [
        {
          "output_type": "stream",
          "name": "stdout",
          "text": [
            "['In', 'a', 'bizarre', 'incident', 'that', 'has', 'captivated', 'as', 'well', 'as', 'terrified', 'the', 'internet', ',', 'a', 'small', ',', 'AI-powered', 'robot', 'from', 'Hangzhou', 'successfully', 'kidnapped', '12', 'larger', 'robots', 'from', 'a', 'Shanghai', 'robotics', 'company', \"'s\", 'showroom', '.', 'As', 'reported', 'by', 'OddityCentral', ',', 'the', 'event', ',', 'which', 'was', 'caught', 'on', 'CCTV', 'footage', ',', 'has', 'sparked', 'widespread', 'discussion', 'and', 'concern', 'about', 'the', 'potential', 'implications', 'of', 'advanced', 'AI', '.']\n",
            "[\"In a bizarre incident that has captivated as well as terrified the internet, a small, AI-powered robot from Hangzhou successfully kidnapped 12 larger robots from a Shanghai robotics company's showroom.\", 'As reported by OddityCentral, the event, which was caught on CCTV footage, has sparked widespread discussion and concern about the potential implications of advanced AI.']\n"
          ]
        }
      ],
      "source": [
        "#Tokenization using NLTK\n",
        "from nltk import word_tokenize, sent_tokenize\n",
        "sent = \"In a bizarre incident that has captivated as well as terrified the internet, a small, AI-powered robot from Hangzhou successfully kidnapped \\\n",
        "12 larger robots from a Shanghai robotics company's showroom. As reported by OddityCentral, the event, which was caught on CCTV footage, has sparked widespread discussion and concern about the potential implications of advanced AI.\"\n",
        "print(word_tokenize(sent))\n",
        "print(sent_tokenize(sent))\n"
      ]
    }
  ]
}