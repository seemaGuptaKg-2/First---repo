{
  "nbformat": 4,
  "nbformat_minor": 0,
  "metadata": {
    "colab": {
      "provenance": [],
      "authorship_tag": "ABX9TyM/U/eO6x52Gy59Vho9KpwM",
      "include_colab_link": true
    },
    "kernelspec": {
      "name": "python3",
      "display_name": "Python 3"
    },
    "language_info": {
      "name": "python"
    }
  },
  "cells": [
    {
      "cell_type": "markdown",
      "metadata": {
        "id": "view-in-github",
        "colab_type": "text"
      },
      "source": [
        "<a href=\"https://colab.research.google.com/github/seemaGuptaKg-2/First---repo/blob/main/Mistralai_ModulesList.ipynb\" target=\"_parent\"><img src=\"https://colab.research.google.com/assets/colab-badge.svg\" alt=\"Open In Colab\"/></a>"
      ]
    },
    {
      "cell_type": "code",
      "source": [
        "!pip install mistralai -q"
      ],
      "metadata": {
        "colab": {
          "base_uri": "https://localhost:8080/"
        },
        "id": "tnADYtNc9heh",
        "outputId": "35ca608a-5a58-4523-fe80-b4160bb69ef8"
      },
      "execution_count": 1,
      "outputs": [
        {
          "output_type": "stream",
          "name": "stdout",
          "text": [
            "\u001b[?25l   \u001b[90m━━━━━━━━━━━━━━━━━━━━━━━━━━━━━━━━━━━━━━━━\u001b[0m \u001b[32m0.0/440.5 kB\u001b[0m \u001b[31m?\u001b[0m eta \u001b[36m-:--:--\u001b[0m\r\u001b[2K   \u001b[91m━━━━━━━━━━━━━━━━━━━━\u001b[0m\u001b[90m╺\u001b[0m\u001b[90m━━━━━━━━━━━━━━━━━━━\u001b[0m \u001b[32m225.3/440.5 kB\u001b[0m \u001b[31m6.7 MB/s\u001b[0m eta \u001b[36m0:00:01\u001b[0m\r\u001b[2K   \u001b[90m━━━━━━━━━━━━━━━━━━━━━━━━━━━━━━━━━━━━━━━━\u001b[0m \u001b[32m440.5/440.5 kB\u001b[0m \u001b[31m6.7 MB/s\u001b[0m eta \u001b[36m0:00:00\u001b[0m\n",
            "\u001b[?25h\u001b[?25l   \u001b[90m━━━━━━━━━━━━━━━━━━━━━━━━━━━━━━━━━━━━━━━━\u001b[0m \u001b[32m0.0/160.3 kB\u001b[0m \u001b[31m?\u001b[0m eta \u001b[36m-:--:--\u001b[0m\r\u001b[2K   \u001b[90m━━━━━━━━━━━━━━━━━━━━━━━━━━━━━━━━━━━━━━━━\u001b[0m \u001b[32m160.3/160.3 kB\u001b[0m \u001b[31m9.5 MB/s\u001b[0m eta \u001b[36m0:00:00\u001b[0m\n",
            "\u001b[?25h"
          ]
        }
      ]
    },
    {
      "cell_type": "code",
      "execution_count": 3,
      "metadata": {
        "colab": {
          "base_uri": "https://localhost:8080/"
        },
        "id": "IdX_O1Kx9gE_",
        "outputId": "3f2bb378-e7e7-4fb1-f186-e721289276c2"
      },
      "outputs": [
        {
          "output_type": "stream",
          "name": "stdout",
          "text": [
            "Model:  mistral-medium-2505\n",
            "Model:  mistral-large-latest\n",
            "Model:  mistral-medium-2508\n",
            "Model:  mistral-medium-latest\n",
            "Model:  mistral-medium\n",
            "Model:  ministral-3b-2410\n",
            "Model:  ministral-3b-latest\n",
            "Model:  ministral-8b-2410\n",
            "Model:  ministral-8b-latest\n",
            "Model:  open-mistral-7b\n",
            "Model:  mistral-tiny\n",
            "Model:  mistral-tiny-2312\n",
            "Model:  open-mistral-nemo\n",
            "Model:  open-mistral-nemo-2407\n",
            "Model:  mistral-tiny-2407\n",
            "Model:  mistral-tiny-latest\n",
            "Model:  open-mixtral-8x7b\n",
            "Model:  mistral-small\n",
            "Model:  mistral-small-2312\n",
            "Model:  open-mixtral-8x22b\n",
            "Model:  open-mixtral-8x22b-2404\n",
            "Model:  mistral-small-2409\n",
            "Model:  mistral-large-2407\n",
            "Model:  mistral-large-2411\n",
            "Model:  pixtral-large-2411\n",
            "Model:  pixtral-large-latest\n",
            "Model:  mistral-large-pixtral-2411\n",
            "Model:  codestral-2501\n",
            "Model:  codestral-2412\n",
            "Model:  codestral-2411-rc5\n",
            "Model:  codestral-2508\n",
            "Model:  codestral-latest\n",
            "Model:  devstral-small-2505\n",
            "Model:  devstral-small-2507\n",
            "Model:  devstral-small-latest\n",
            "Model:  devstral-medium-2507\n",
            "Model:  devstral-medium-latest\n",
            "Model:  pixtral-12b-2409\n",
            "Model:  pixtral-12b\n",
            "Model:  pixtral-12b-latest\n",
            "Model:  mistral-small-2501\n",
            "Model:  mistral-small-2503\n",
            "Model:  mistral-small-2506\n",
            "Model:  mistral-small-latest\n",
            "Model:  mistral-saba-2502\n",
            "Model:  mistral-saba-latest\n",
            "Model:  magistral-medium-2506\n",
            "Model:  magistral-medium-2507\n",
            "Model:  magistral-small-2506\n",
            "Model:  magistral-small-2507\n",
            "Model:  magistral-medium-2509\n",
            "Model:  magistral-medium-latest\n",
            "Model:  magistral-small-2509\n",
            "Model:  magistral-small-latest\n",
            "Model:  voxtral-mini-2507\n",
            "Model:  voxtral-mini-latest\n",
            "Model:  voxtral-small-2507\n",
            "Model:  voxtral-small-latest\n",
            "Model:  mistral-embed-2312\n",
            "Model:  mistral-embed\n",
            "Model:  codestral-embed\n",
            "Model:  codestral-embed-2505\n",
            "Model:  mistral-moderation-2411\n",
            "Model:  mistral-moderation-latest\n",
            "Model:  mistral-ocr-2503\n",
            "Model:  mistral-ocr-2505\n",
            "Model:  mistral-ocr-latest\n",
            "Model:  voxtral-mini-transcribe-2507\n",
            "Model:  voxtral-mini-2507\n",
            "Model:  voxtral-mini-latest\n"
          ]
        }
      ],
      "source": [
        "!pip install --upgrade mistralai -q\n",
        "import os\n",
        "from mistralai import Mistral\n",
        "from google.colab import userdata\n",
        "\n",
        "api_key = userdata.get(\"MISTRAL_API_KEY\")\n",
        "client = Mistral(api_key)\n",
        "\n",
        "models = client.models.list()\n",
        "\n",
        "for model in models.data:\n",
        "    print(\"Model: \", model.id)"
      ]
    }
  ]
}