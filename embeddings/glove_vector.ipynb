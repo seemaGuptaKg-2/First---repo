{
  "nbformat": 4,
  "nbformat_minor": 0,
  "metadata": {
    "colab": {
      "provenance": []
    },
    "kernelspec": {
      "name": "python3",
      "display_name": "Python 3"
    },
    "language_info": {
      "name": "python"
    }
  },
  "cells": [
    {
      "cell_type": "code",
      "source": [
        "!pip install gensim"
      ],
      "metadata": {
        "id": "fPFD0stGXi7K",
        "outputId": "5446f864-d524-47ca-a320-47579f1069bf",
        "colab": {
          "base_uri": "https://localhost:8080/"
        }
      },
      "execution_count": 1,
      "outputs": [
        {
          "output_type": "stream",
          "name": "stdout",
          "text": [
            "Requirement already satisfied: gensim in /usr/local/lib/python3.12/dist-packages (4.3.3)\n",
            "Requirement already satisfied: numpy<2.0,>=1.18.5 in /usr/local/lib/python3.12/dist-packages (from gensim) (1.26.4)\n",
            "Requirement already satisfied: scipy<1.14.0,>=1.7.0 in /usr/local/lib/python3.12/dist-packages (from gensim) (1.13.1)\n",
            "Requirement already satisfied: smart-open>=1.8.1 in /usr/local/lib/python3.12/dist-packages (from gensim) (7.3.1)\n",
            "Requirement already satisfied: wrapt in /usr/local/lib/python3.12/dist-packages (from smart-open>=1.8.1->gensim) (1.17.3)\n"
          ]
        }
      ]
    },
    {
      "cell_type": "code",
      "execution_count": 3,
      "metadata": {
        "colab": {
          "base_uri": "https://localhost:8080/"
        },
        "id": "67Iwbmo4kUUZ",
        "outputId": "3fa81c16-e698-415e-843d-e5612f1bfe3d"
      },
      "outputs": [
        {
          "output_type": "stream",
          "name": "stdout",
          "text": [
            "[==================================================] 100.0% 66.0/66.0MB downloaded\n",
            "Embedding for 'example':\n",
            "[ 0.51564    0.56912   -0.19759    0.0080456  0.41697    0.59502\n",
            " -0.053312  -0.83222   -0.21715    0.31045    0.09352    0.35323\n",
            "  0.28151   -0.35308    0.23496    0.04429    0.017109   0.0063749\n",
            " -0.01662   -0.69576    0.019819  -0.52746   -0.14011    0.21962\n",
            "  0.13692   -1.2683    -0.89416   -0.1831     0.23343   -0.058254\n",
            "  3.2481    -0.48794   -0.01207   -0.81645    0.21182   -0.17837\n",
            " -0.02874    0.099358  -0.14944    0.2601     0.18919    0.15022\n",
            "  0.18278    0.50052   -0.025532   0.24671    0.10596    0.13612\n",
            "  0.0090427  0.39962  ]\n",
            "Dimension: 50\n",
            "Type: <class 'numpy.ndarray'>\n",
            "Shape: (50,)\n"
          ]
        }
      ],
      "source": [
        "import gensim.downloader as api\n",
        "\n",
        "# Download and load the pre-trained GloVe model\n",
        "model = api.load(\"glove-wiki-gigaword-50\")  # You can choose different dimensions like 50, 100, 200, 300\n",
        "\n",
        "# Example usage: get the embedding for a word\n",
        "word = 'example'\n",
        "embedding = model[word]\n",
        "\n",
        "print(f\"Embedding for '{word}':\\n{embedding}\")\n",
        "print(\"Dimension:\", len(embedding))\n",
        "print(\"Type:\", type(embedding))\n",
        "print(\"Shape:\", embedding.shape)\n",
        "# to validate the response check check the outcome by downloading dataset glove.6B.50d.txt on Kaggle.com. for this we need to search teh word \"example\" and then check the values\n"
      ]
    }
  ]
}