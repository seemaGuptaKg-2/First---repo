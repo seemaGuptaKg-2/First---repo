{
  "nbformat": 4,
  "nbformat_minor": 0,
  "metadata": {
    "colab": {
      "provenance": [],
      "authorship_tag": "ABX9TyMw0IUxFC2FNYxFtr8QkPkw",
      "include_colab_link": true
    },
    "kernelspec": {
      "name": "python3",
      "display_name": "Python 3"
    },
    "language_info": {
      "name": "python"
    }
  },
  "cells": [
    {
      "cell_type": "markdown",
      "metadata": {
        "id": "view-in-github",
        "colab_type": "text"
      },
      "source": [
        "<a href=\"https://colab.research.google.com/github/seemaGuptaKg-2/First---repo/blob/main/Lambda_Filter_Reduce_Map_Groupby.ipynb\" target=\"_parent\"><img src=\"https://colab.research.google.com/assets/colab-badge.svg\" alt=\"Open In Colab\"/></a>"
      ]
    },
    {
      "cell_type": "code",
      "execution_count": null,
      "metadata": {
        "colab": {
          "base_uri": "https://localhost:8080/"
        },
        "id": "sotue5nbfxrs",
        "outputId": "b00385ee-44c9-4136-8030-e148105787f1"
      },
      "outputs": [
        {
          "output_type": "stream",
          "name": "stdout",
          "text": [
            "[2, 3, 4]\n",
            "[2, 4]\n"
          ]
        }
      ],
      "source": [
        "def newfunc(x):\n",
        "  return x%2==0\n",
        "i = [2,3,4]\n",
        "print(list(filter(None,i)))\n",
        "z = list(filter(newfunc,i))\n",
        "print(z)"
      ]
    },
    {
      "cell_type": "code",
      "source": [
        "i = [2,3,4]\n",
        "z = list(filter(lambda x: x%2==0,i))\n",
        "print(z)"
      ],
      "metadata": {
        "colab": {
          "base_uri": "https://localhost:8080/"
        },
        "id": "SUjIzzUGwBfG",
        "outputId": "9fb07649-02ce-48a1-f095-0d7e7352189c"
      },
      "execution_count": null,
      "outputs": [
        {
          "output_type": "stream",
          "name": "stdout",
          "text": [
            "[2, 4]\n"
          ]
        }
      ]
    },
    {
      "cell_type": "code",
      "source": [
        "import functools\n",
        "i = [2,3,4,5,6,7,8]\n",
        "z = functools.reduce(lambda x,y: x+y,i)\n",
        "print(z)\n"
      ],
      "metadata": {
        "colab": {
          "base_uri": "https://localhost:8080/"
        },
        "id": "e2cnDuqBibz5",
        "outputId": "97ff87d9-c259-46e3-938f-a3ffc8f2e02a"
      },
      "execution_count": null,
      "outputs": [
        {
          "output_type": "stream",
          "name": "stdout",
          "text": [
            "35\n"
          ]
        }
      ]
    },
    {
      "cell_type": "code",
      "source": [
        "i = [2,3,4]\n",
        "z = list(map(lambda x: x%2==0,i))\n",
        "print(z)"
      ],
      "metadata": {
        "colab": {
          "base_uri": "https://localhost:8080/"
        },
        "id": "53JRufl5xQBu",
        "outputId": "c6bc8919-38c0-4eda-bad1-cd4df50e22ee"
      },
      "execution_count": null,
      "outputs": [
        {
          "output_type": "stream",
          "name": "stdout",
          "text": [
            "[True, False, True]\n"
          ]
        }
      ]
    },
    {
      "cell_type": "code",
      "source": [
        "from itertools import groupby\n",
        "z=['applee1', 'mango', 'orange', 'apple1', 'kiwi','mango2', 'kiwi3']\n",
        "z.sort()\n",
        "grouped = groupby(z, key=lambda x:x[-1])\n",
        "\n",
        "for key, group in grouped:\n",
        "  print(key, list(group))"
      ],
      "metadata": {
        "colab": {
          "base_uri": "https://localhost:8080/"
        },
        "id": "rsHuNM2IxoZW",
        "outputId": "c335846d-eda9-48d1-f013-ae030578a029"
      },
      "execution_count": null,
      "outputs": [
        {
          "output_type": "stream",
          "name": "stdout",
          "text": [
            "1 ['apple1', 'applee1']\n",
            "i ['kiwi']\n",
            "3 ['kiwi3']\n",
            "o ['mango']\n",
            "2 ['mango2']\n",
            "e ['orange']\n"
          ]
        }
      ]
    },
    {
      "cell_type": "code",
      "source": [
        "numlist = [2,3,4,5,6]\n",
        "print(numlist[:])\n",
        "print(numlist[::-1])\n",
        "print(\"The fox Jumps over the lasy dog\"[2:12])\n",
        "print(\"The fox Jumps over the lasy dog\"[-2:-12:-1])"
      ],
      "metadata": {
        "colab": {
          "base_uri": "https://localhost:8080/"
        },
        "id": "1Dg5zKaI13cP",
        "outputId": "f57cded2-e4e2-40b3-bcce-1ff57e698568"
      },
      "execution_count": null,
      "outputs": [
        {
          "output_type": "stream",
          "name": "stdout",
          "text": [
            "[2, 3, 4, 5, 6]\n",
            "[6, 5, 4, 3, 2]\n",
            "e fox Jump\n",
            "od ysal eh\n"
          ]
        }
      ]
    },
    {
      "cell_type": "code",
      "source": [
        "def yourfunc(b):\n",
        "  b=b**2\n",
        "  return b\n",
        "p=40\n",
        "x=yourfunc(p)\n",
        "print(x)"
      ],
      "metadata": {
        "colab": {
          "base_uri": "https://localhost:8080/"
        },
        "id": "N6_tLdjF2LjL",
        "outputId": "535c2cd6-d5c2-4de8-d17b-104652f063a4"
      },
      "execution_count": null,
      "outputs": [
        {
          "output_type": "stream",
          "name": "stdout",
          "text": [
            "1600\n"
          ]
        }
      ]
    },
    {
      "cell_type": "code",
      "source": [
        "def yourfunc(b):\n",
        "  x=int(b[0])*2; y=int(b[1])*2; z=int(b[2])*2\n",
        "  return x,y,z\n",
        "\n",
        "p=[10, 20, 40]\n",
        "x1,y1,z1=yourfunc(p)\n",
        "print(yourfunc(p))\n",
        "print(x1,y1,z1)"
      ],
      "metadata": {
        "colab": {
          "base_uri": "https://localhost:8080/"
        },
        "id": "mSUWWz5GAyGt",
        "outputId": "fcc0c409-936e-4f86-c3e5-82df259e75be"
      },
      "execution_count": null,
      "outputs": [
        {
          "output_type": "stream",
          "name": "stdout",
          "text": [
            "(20, 40, 80)\n",
            "20 40 80\n"
          ]
        }
      ]
    },
    {
      "cell_type": "code",
      "source": [
        "def yourfunc(b,c,d):\n",
        "  d[5]=45\n",
        "  print(b,c,d)\n",
        "\n",
        "p=(3,4,5)\n",
        "q={34,56,78}\n",
        "r={3:23,6:87,5:25}\n",
        "yourfunc(p,q,r)\n",
        "print(p,q,r)\n",
        "\n",
        "\n"
      ],
      "metadata": {
        "colab": {
          "base_uri": "https://localhost:8080/"
        },
        "id": "gGp9hJwjBUzv",
        "outputId": "6a084c52-d3cf-448a-ff10-3316e55fcf74"
      },
      "execution_count": null,
      "outputs": [
        {
          "output_type": "stream",
          "name": "stdout",
          "text": [
            "(3, 4, 5) {56, 34, 78} {3: 23, 6: 87, 5: 45}\n",
            "(3, 4, 5) {56, 34, 78} {3: 23, 6: 87, 5: 45}\n"
          ]
        }
      ]
    },
    {
      "cell_type": "code",
      "source": [
        "mystring = list(map(int,input().strip().split()))\n",
        "print(mystring)"
      ],
      "metadata": {
        "colab": {
          "base_uri": "https://localhost:8080/"
        },
        "id": "kIUIQSUrQ1Eo",
        "outputId": "ae84c8ac-f713-4bab-cec4-25e8a44960a3"
      },
      "execution_count": null,
      "outputs": [
        {
          "output_type": "stream",
          "name": "stdout",
          "text": [
            "  34 56 23    \n",
            "[34, 56, 23]\n"
          ]
        }
      ]
    },
    {
      "cell_type": "code",
      "source": [
        "from ctypes import c_char\n",
        "def filter_vowels(letter):\n",
        "    vowels = ['a', 'e', 'i', 'o', 'u']\n",
        "    #z=list(filter(lambda x: x not in vowels,letter))\n",
        "    z=''.join(filter(lambda x: x not in vowels,letter))\n",
        "    #z= ''.join(char for char in letter if char.lower() not in vowels)\n",
        "    return z\n",
        "print(filter_vowels(\"hello world\"))"
      ],
      "metadata": {
        "colab": {
          "base_uri": "https://localhost:8080/"
        },
        "id": "9s_iPDiBVLrD",
        "outputId": "bcd2de60-de91-46ff-f2ac-46c58d95c2bf"
      },
      "execution_count": null,
      "outputs": [
        {
          "output_type": "stream",
          "name": "stdout",
          "text": [
            "hll wrld\n"
          ]
        }
      ]
    },
    {
      "cell_type": "code",
      "source": [
        "def filter_consonants(letter):\n",
        "    vowels = ['a', 'e', 'i', 'o', 'u']\n",
        "    z=list(filter(lambda x: x in vowels,letter))\n",
        "    return z\n",
        "print(filter_consonants(\"hello world\"))"
      ],
      "metadata": {
        "colab": {
          "base_uri": "https://localhost:8080/"
        },
        "id": "DWDxazfRW6ZE",
        "outputId": "abeba81f-7375-4b43-bdcd-217bb56dfc05"
      },
      "execution_count": null,
      "outputs": [
        {
          "output_type": "stream",
          "name": "stdout",
          "text": [
            "['e', 'o', 'o']\n"
          ]
        }
      ]
    },
    {
      "cell_type": "code",
      "source": [
        "class letterfilter:\n",
        "    def __init__(self,s):\n",
        "        self.s=s\n",
        "\n",
        "class letterfilter:\n",
        "    def __init__(self,s):\n",
        "        self.s=s\n",
        "        self.vowels=['a','e','i','o','u']\n",
        "    def filter_vowels(self):\n",
        "        return ''.join(filter(lambda x: x not in self.vowels,self.s))\n",
        "    def filter_consonants(self):\n",
        "        return ''.join(filter(lambda x: x in self.vowels,self.s))\n",
        "\n",
        "s = input()\n",
        "f = letterfilter(s)\n",
        "print(f.filter_vowels())\n",
        "print(f.filter_consonants())"
      ],
      "metadata": {
        "colab": {
          "base_uri": "https://localhost:8080/"
        },
        "id": "IVft5Opga3BY",
        "outputId": "4871e19c-9088-4407-8f66-3950f7b39eb0"
      },
      "execution_count": null,
      "outputs": [
        {
          "output_type": "stream",
          "name": "stdout",
          "text": [
            "good morning india\n",
            "gd mrnng nd\n",
            "oooiiia\n"
          ]
        }
      ]
    },
    {
      "cell_type": "code",
      "source": [
        "def shopping_total(n,items):\n",
        "  #discounted_Prices=map(lambda x: x[1]*0.9 if x[1]>50 else x[1], items)\n",
        "  discounted_Prices=map(lambda x: x*0.9 if x>50 else x, items)\n",
        "  total=sum(discounted_Prices)\n",
        "  return round(total, 1)\n",
        "\n",
        "print(shopping_total(3,[20,100,25]))"
      ],
      "metadata": {
        "colab": {
          "base_uri": "https://localhost:8080/"
        },
        "id": "KDiUM2p2mwcg",
        "outputId": "ca3e5702-4b51-4c9e-9315-16e2dd3895ca"
      },
      "execution_count": null,
      "outputs": [
        {
          "output_type": "stream",
          "name": "stdout",
          "text": [
            "135.0\n"
          ]
        }
      ]
    },
    {
      "cell_type": "code",
      "source": [
        "for n in range(1,30+1):\n",
        "  if n%3==0 and n%5==0:\n",
        "    print(\"FizzBuzz\")\n",
        "    print (f\"reminder for 3 - {n%3}\")\n",
        "    print (f\"reminder for 5 - {n%5}\")\n",
        "  elif n%3==0:\n",
        "    print(\"Fizz\")\n",
        "  elif n%5==0:\n",
        "    print(\"Buzz\")\n",
        "  else:\n",
        "    print(n)"
      ],
      "metadata": {
        "colab": {
          "base_uri": "https://localhost:8080/"
        },
        "id": "j14Q_0tkV2Oa",
        "outputId": "f5415f69-5a95-4ff7-db5b-5bcf48ffe026"
      },
      "execution_count": null,
      "outputs": [
        {
          "output_type": "stream",
          "name": "stdout",
          "text": [
            "1\n",
            "2\n",
            "Fizz\n",
            "4\n",
            "Buzz\n",
            "Fizz\n",
            "7\n",
            "8\n",
            "Fizz\n",
            "Buzz\n",
            "11\n",
            "Fizz\n",
            "13\n",
            "14\n",
            "FizzBuzz\n",
            "reminder for 3 - 0\n",
            "reminder for 5 - 0\n",
            "16\n",
            "17\n",
            "Fizz\n",
            "19\n",
            "Buzz\n",
            "Fizz\n",
            "22\n",
            "23\n",
            "Fizz\n",
            "Buzz\n",
            "26\n",
            "Fizz\n",
            "28\n",
            "29\n",
            "FizzBuzz\n",
            "reminder for 3 - 0\n",
            "reminder for 5 - 0\n"
          ]
        }
      ]
    },
    {
      "cell_type": "code",
      "source": [
        "def is_valid_word(word):\n",
        "    if len(word) < 3:\n",
        "        return False\n",
        "\n",
        "    if not word.isalnum():\n",
        "        return False\n",
        "\n",
        "    vowels = set('aeiouAEIOU')\n",
        "    has_vowel = any(char in vowels for char in word if char.isalpha())\n",
        "    has_consonant = any(char.isalpha() and char not in vowels for char in word)\n",
        "    if has_vowel and has_consonant:\n",
        "        print(word)\n",
        "    return has_vowel and has_consonant\n",
        "\n",
        "def count_valid_words(sentence):\n",
        "    words = sentence.split()\n",
        "    valid_words = [word for word in words if is_valid_word(word)]\n",
        "    return len(valid_words)\n",
        "\n",
        "# Example usage\n",
        "input_sentence = input(\"Enter a sentence: \")\n",
        "valid_count = count_valid_words(input_sentence)\n",
        "print(f\"Number of valid words: {valid_count}\")"
      ],
      "metadata": {
        "colab": {
          "base_uri": "https://localhost:8080/"
        },
        "id": "cR8saOwtnxey",
        "outputId": "f05669c7-4b27-4b06-f21d-3b8e6ac36704"
      },
      "execution_count": null,
      "outputs": [
        {
          "output_type": "stream",
          "name": "stdout",
          "text": [
            "Enter a sentence: this is where bob wins the game\n",
            "this\n",
            "where\n",
            "bob\n",
            "wins\n",
            "the\n",
            "game\n",
            "Number of valid words: 6\n"
          ]
        }
      ]
    },
    {
      "cell_type": "code",
      "source": [
        "def sort_2d_array(data, sort_keys):\n",
        "    # Apply multiple sorts in reverse order (because Python's sort is stable)\n",
        "\n",
        "    for index, direction in reversed(sort_keys):\n",
        "        data.sort(key=lambda row: row[index], reverse=bool(direction))\n",
        "    return data\n",
        "\n",
        "data = [\n",
        "    [2, \"apple\", 5],\n",
        "    [1, \"banana\", 2],\n",
        "    [3, \"apple\", 1],\n",
        "    [1, \"apple\", 4]\n",
        "]\n",
        "\n",
        "# Sort by column 1 (fruit name) ascending, then by column 2 (last column) descending\n",
        "#sort_order = [[1, 0], [2, 1]]\n",
        "sort_order = [[1, 0]]\n",
        "sorted_data = sort_2d_array(data, sort_order)\n",
        "\n",
        "for row in sorted_data:\n",
        "    print(row)"
      ],
      "metadata": {
        "colab": {
          "base_uri": "https://localhost:8080/"
        },
        "id": "DRfGshUrwOil",
        "outputId": "08c39af6-8ca6-4be3-bb2b-61bc800058e3"
      },
      "execution_count": null,
      "outputs": [
        {
          "output_type": "stream",
          "name": "stdout",
          "text": [
            "<function sort_2d_array.<locals>.<lambda> at 0x796231e791c0>\n",
            "[2, 'apple', 5]\n",
            "[3, 'apple', 1]\n",
            "[1, 'apple', 4]\n",
            "[1, 'banana', 2]\n"
          ]
        }
      ]
    },
    {
      "cell_type": "code",
      "source": [
        "sort_order = [[1, 0], [2, 1]]\n",
        "x =reversed(sort_order)\n",
        "print(sort_order[0], sort_order[1])\n",
        "\n",
        "[1, 0]\n",
        "[2, 'apple', 5]\n",
        "[1, 'apple', 4]\n",
        "[3, 'apple', 1]\n",
        "[1, 'banana', 2]\n",
        "\n"
      ],
      "metadata": {
        "colab": {
          "base_uri": "https://localhost:8080/"
        },
        "collapsed": true,
        "id": "Y2TVbDbr2YGY",
        "outputId": "799f2b41-c18d-4b51-cb64-a417d0dd7bb5"
      },
      "execution_count": null,
      "outputs": [
        {
          "output_type": "stream",
          "name": "stdout",
          "text": [
            "[1, 0] [2, 1]\n"
          ]
        }
      ]
    },
    {
      "cell_type": "code",
      "source": [
        "cars = [['Ford',3], ['BMW',7], ['Volvo',1]]\n",
        "index = 1\n",
        "direction = 0\n",
        "y=lambda x:x[1]\n",
        "for i in cars:\n",
        "  print(i)\n",
        "  print(y(i))\n",
        "#cars.sort(key=lambda x:x[1],reverse=bool(direction))\n",
        "cars.sort(key=lambda rows: rows[i],reverse=bool(direction))\n",
        "print(cars)"
      ],
      "metadata": {
        "colab": {
          "base_uri": "https://localhost:8080/",
          "height": 401
        },
        "collapsed": true,
        "id": "wLN1BUUF7fh8",
        "outputId": "671920f3-42bc-4559-f17a-ed3745b661a4"
      },
      "execution_count": null,
      "outputs": [
        {
          "output_type": "stream",
          "name": "stdout",
          "text": [
            "['Ford', 3]\n",
            "3\n",
            "['BMW', 7]\n",
            "7\n",
            "['Volvo', 1]\n",
            "1\n"
          ]
        },
        {
          "output_type": "error",
          "ename": "TypeError",
          "evalue": "list indices must be integers or slices, not list",
          "traceback": [
            "\u001b[0;31m---------------------------------------------------------------------------\u001b[0m",
            "\u001b[0;31mTypeError\u001b[0m                                 Traceback (most recent call last)",
            "\u001b[0;32m/tmp/ipython-input-4154039984.py\u001b[0m in \u001b[0;36m<cell line: 0>\u001b[0;34m()\u001b[0m\n\u001b[1;32m      7\u001b[0m   \u001b[0mprint\u001b[0m\u001b[0;34m(\u001b[0m\u001b[0my\u001b[0m\u001b[0;34m(\u001b[0m\u001b[0mi\u001b[0m\u001b[0;34m)\u001b[0m\u001b[0;34m)\u001b[0m\u001b[0;34m\u001b[0m\u001b[0;34m\u001b[0m\u001b[0m\n\u001b[1;32m      8\u001b[0m \u001b[0;31m#cars.sort(key=lambda x:x[1],reverse=bool(direction))\u001b[0m\u001b[0;34m\u001b[0m\u001b[0;34m\u001b[0m\u001b[0m\n\u001b[0;32m----> 9\u001b[0;31m \u001b[0mcars\u001b[0m\u001b[0;34m.\u001b[0m\u001b[0msort\u001b[0m\u001b[0;34m(\u001b[0m\u001b[0mkey\u001b[0m\u001b[0;34m=\u001b[0m\u001b[0;32mlambda\u001b[0m \u001b[0mrows\u001b[0m\u001b[0;34m:\u001b[0m \u001b[0mrows\u001b[0m\u001b[0;34m[\u001b[0m\u001b[0mi\u001b[0m\u001b[0;34m]\u001b[0m\u001b[0;34m,\u001b[0m\u001b[0mreverse\u001b[0m\u001b[0;34m=\u001b[0m\u001b[0mbool\u001b[0m\u001b[0;34m(\u001b[0m\u001b[0mdirection\u001b[0m\u001b[0;34m)\u001b[0m\u001b[0;34m)\u001b[0m\u001b[0;34m\u001b[0m\u001b[0;34m\u001b[0m\u001b[0m\n\u001b[0m\u001b[1;32m     10\u001b[0m \u001b[0mprint\u001b[0m\u001b[0;34m(\u001b[0m\u001b[0mcars\u001b[0m\u001b[0;34m)\u001b[0m\u001b[0;34m\u001b[0m\u001b[0;34m\u001b[0m\u001b[0m\n",
            "\u001b[0;32m/tmp/ipython-input-4154039984.py\u001b[0m in \u001b[0;36m<lambda>\u001b[0;34m(rows)\u001b[0m\n\u001b[1;32m      7\u001b[0m   \u001b[0mprint\u001b[0m\u001b[0;34m(\u001b[0m\u001b[0my\u001b[0m\u001b[0;34m(\u001b[0m\u001b[0mi\u001b[0m\u001b[0;34m)\u001b[0m\u001b[0;34m)\u001b[0m\u001b[0;34m\u001b[0m\u001b[0;34m\u001b[0m\u001b[0m\n\u001b[1;32m      8\u001b[0m \u001b[0;31m#cars.sort(key=lambda x:x[1],reverse=bool(direction))\u001b[0m\u001b[0;34m\u001b[0m\u001b[0;34m\u001b[0m\u001b[0m\n\u001b[0;32m----> 9\u001b[0;31m \u001b[0mcars\u001b[0m\u001b[0;34m.\u001b[0m\u001b[0msort\u001b[0m\u001b[0;34m(\u001b[0m\u001b[0mkey\u001b[0m\u001b[0;34m=\u001b[0m\u001b[0;32mlambda\u001b[0m \u001b[0mrows\u001b[0m\u001b[0;34m:\u001b[0m \u001b[0mrows\u001b[0m\u001b[0;34m[\u001b[0m\u001b[0mi\u001b[0m\u001b[0;34m]\u001b[0m\u001b[0;34m,\u001b[0m\u001b[0mreverse\u001b[0m\u001b[0;34m=\u001b[0m\u001b[0mbool\u001b[0m\u001b[0;34m(\u001b[0m\u001b[0mdirection\u001b[0m\u001b[0;34m)\u001b[0m\u001b[0;34m)\u001b[0m\u001b[0;34m\u001b[0m\u001b[0;34m\u001b[0m\u001b[0m\n\u001b[0m\u001b[1;32m     10\u001b[0m \u001b[0mprint\u001b[0m\u001b[0;34m(\u001b[0m\u001b[0mcars\u001b[0m\u001b[0;34m)\u001b[0m\u001b[0;34m\u001b[0m\u001b[0;34m\u001b[0m\u001b[0m\n",
            "\u001b[0;31mTypeError\u001b[0m: list indices must be integers or slices, not list"
          ]
        }
      ]
    },
    {
      "cell_type": "code",
      "source": [
        "def sort_2d_array(data, sort_keys):\n",
        "    # Define a function to return a key function for sorting by one column\n",
        "    def get_column_key(col_index):\n",
        "        def key_func(row):\n",
        "            print(\"inside \", row[col_index])\n",
        "            return row[col_index]\n",
        "        return key_func\n",
        "\n",
        "    # Apply sort for each key in reverse order\n",
        "    for col_index, direction in reversed(sort_keys):\n",
        "        key_function = get_column_key(col_index)\n",
        "        x = key_function(data)\n",
        "        print(\"keyfunc \",x)\n",
        "        data.sort(key=key_function, reverse=bool(direction))\n",
        "\n",
        "    return data\n",
        "\n",
        "data = [\n",
        "    [2, \"banana\", 20],\n",
        "    [1, \"apple\", 10],\n",
        "    [3, \"banana\", 15],\n",
        "    [4, \"apple\", 25]\n",
        "]\n",
        "\n",
        "sort_keys = [[1, 0], [2, 1]]  # Sort by column 1 (name) ascending, then column 2 descending\n",
        "\n",
        "sorted_data = sort_2d_array(data, sort_keys)\n",
        "\n",
        "for row in sorted_data:\n",
        "    print(row)"
      ],
      "metadata": {
        "colab": {
          "base_uri": "https://localhost:8080/"
        },
        "id": "YZhVfL7ZFzwL",
        "outputId": "e92b36c3-c7ef-4fc6-8fc8-3004a572b427"
      },
      "execution_count": null,
      "outputs": [
        {
          "output_type": "stream",
          "name": "stdout",
          "text": [
            "inside  [3, 'banana', 15]\n",
            "keyfunc  [3, 'banana', 15]\n",
            "inside  20\n",
            "inside  10\n",
            "inside  15\n",
            "inside  25\n",
            "inside  [2, 'banana', 20]\n",
            "keyfunc  [2, 'banana', 20]\n",
            "inside  apple\n",
            "inside  banana\n",
            "inside  banana\n",
            "inside  apple\n",
            "[4, 'apple', 25]\n",
            "[1, 'apple', 10]\n",
            "[2, 'banana', 20]\n",
            "[3, 'banana', 15]\n"
          ]
        }
      ]
    }
  ]
}